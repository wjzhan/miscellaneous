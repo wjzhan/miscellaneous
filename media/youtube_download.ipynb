{
  "nbformat": 4,
  "nbformat_minor": 0,
  "metadata": {
    "colab": {
      "name": "youtube_download.ipynb",
      "provenance": [],
      "collapsed_sections": [],
      "authorship_tag": "ABX9TyOrzfwzIzQLhEbMvvQ+NZF9"
    },
    "kernelspec": {
      "name": "python3",
      "display_name": "Python 3"
    },
    "language_info": {
      "name": "python"
    }
  },
  "cells": [
    {
      "cell_type": "markdown",
      "source": [
        "# Referrence\n",
        "- https://github.com/yt-dlp/yt-dlp\n",
        "- https://pypi.org/project/yt-dlp/2021.3.7/"
      ],
      "metadata": {
        "id": "X0gEgXQF7fUq"
      }
    },
    {
      "cell_type": "code",
      "execution_count": 2,
      "metadata": {
        "colab": {
          "base_uri": "https://localhost:8080/"
        },
        "id": "lbUcwmvQ7Y4-",
        "outputId": "784bfa6c-c846-4aaa-d149-152075e63b29"
      },
      "outputs": [
        {
          "output_type": "stream",
          "name": "stdout",
          "text": [
            "Collecting yt-dlp\n",
            "  Downloading yt_dlp-2022.1.21-py2.py3-none-any.whl (2.5 MB)\n",
            "\u001b[K     |████████████████████████████████| 2.5 MB 21.0 MB/s \n",
            "\u001b[?25hCollecting websockets\n",
            "  Downloading websockets-10.1-cp37-cp37m-manylinux_2_5_x86_64.manylinux1_x86_64.manylinux_2_12_x86_64.manylinux2010_x86_64.whl (111 kB)\n",
            "\u001b[K     |████████████████████████████████| 111 kB 57.1 MB/s \n",
            "\u001b[?25hCollecting pycryptodomex\n",
            "  Downloading pycryptodomex-3.13.0-cp35-abi3-manylinux2010_x86_64.whl (2.0 MB)\n",
            "\u001b[K     |████████████████████████████████| 2.0 MB 39.7 MB/s \n",
            "\u001b[?25hCollecting mutagen\n",
            "  Downloading mutagen-1.45.1-py3-none-any.whl (218 kB)\n",
            "\u001b[K     |████████████████████████████████| 218 kB 69.7 MB/s \n",
            "\u001b[?25hInstalling collected packages: websockets, pycryptodomex, mutagen, yt-dlp\n",
            "Successfully installed mutagen-1.45.1 pycryptodomex-3.13.0 websockets-10.1 yt-dlp-2022.1.21\n"
          ]
        }
      ],
      "source": [
        "!pip install -U yt-dlp"
      ]
    },
    {
      "cell_type": "code",
      "source": [
        "%cd sample_data/\n",
        "!pwd"
      ],
      "metadata": {
        "colab": {
          "base_uri": "https://localhost:8080/"
        },
        "id": "XBM6zr-o9OOs",
        "outputId": "3652e6e9-a8b7-484e-d0a0-1cadfeb8ee20"
      },
      "execution_count": 3,
      "outputs": [
        {
          "output_type": "stream",
          "name": "stdout",
          "text": [
            "/content/sample_data\n",
            "/content/sample_data\n"
          ]
        }
      ]
    },
    {
      "cell_type": "code",
      "source": [
        "!yt-dlp -v -f 22 -x 'https://www.youtube.com/watch?v=vjrMTpacP7w'"
      ],
      "metadata": {
        "colab": {
          "base_uri": "https://localhost:8080/"
        },
        "id": "uHzIwvBm-N0W",
        "outputId": "cea2f0f1-67c6-4c68-a082-3fe738366e17"
      },
      "execution_count": 12,
      "outputs": [
        {
          "output_type": "stream",
          "name": "stdout",
          "text": [
            "[debug] Command-line config: ['-v', '-f', '22', '-x', 'https://www.youtube.com/watch?v=vjrMTpacP7w']\n",
            "[debug] Encodings: locale UTF-8, fs utf-8, out UTF-8, err UTF-8, pref UTF-8\n",
            "[debug] yt-dlp version 2022.01.21 [f20d607b0]\n",
            "[debug] Python version 3.7.12 (CPython 64bit) - Linux-5.4.144+-x86_64-with-Ubuntu-18.04-bionic\n",
            "[debug] exe versions: ffmpeg 3.4.8, ffprobe 3.4.8\n",
            "[debug] Optional libraries: Cryptodome, mutagen, sqlite, websockets\n",
            "[debug] Proxy map: {}\n",
            "[debug] [youtube] Extracting URL: https://www.youtube.com/watch?v=vjrMTpacP7w\n",
            "[youtube] vjrMTpacP7w: Downloading webpage\n",
            "[youtube] vjrMTpacP7w: Downloading android player API JSON\n",
            "[debug] Sort order given by extractor: quality, res, fps, hdr:12, source, codec:vp9.2, lang, proto\n",
            "[debug] Formats sorted by: hasvid, ie_pref, quality, res, fps, hdr:12(7), source, vcodec:vp9.2(10), acodec, lang, proto, filesize, fs_approx, tbr, vbr, abr, asr, vext, aext, hasaud, id\n",
            "[info] vjrMTpacP7w: Downloading 1 format(s): 22\n",
            "[debug] Invoking downloader on \"https://rr2---sn-p5qs7nek.googlevideo.com/videoplayback?expire=1643064919&ei=99nuYb2BLsSa8wTDyKiYDQ&ip=35.194.87.236&id=o-AKnvGZIOx31Iyu9PKrsYtwIE_FQNR6iQRbu-D0g4EvF2&itag=22&source=youtube&requiressl=yes&mh=Tp&mm=31%2C26&mn=sn-p5qs7nek%2Csn-ab5l6ndy&ms=au%2Conr&mv=m&mvi=2&pl=20&vprv=1&mime=video%2Fmp4&ratebypass=yes&dur=214.343&lmt=1610031257681679&mt=1643042945&fvip=2&fexp=24001373%2C24007246&c=ANDROID&txp=5432434&sparams=expire%2Cei%2Cip%2Cid%2Citag%2Csource%2Crequiressl%2Cvprv%2Cmime%2Cratebypass%2Cdur%2Clmt&sig=AOq0QJ8wRgIhAOTXKi7JwH-W6eehrVjddlgZHKPjLrWgSkrEIQj-oreHAiEAobwiFRLnAU-pa-BxZPrf0nojNJPSM5bbbtPQVssJBGM%3D&lsparams=mh%2Cmm%2Cmn%2Cms%2Cmv%2Cmvi%2Cpl&lsig=AG3C_xAwRAIgU0jc_pfypCqSJ8dtQ6xffkxiZWkKDZjOWr1EGOTKNlsCIDk2F_dPAPCxkfvLApqAyeIkF9YdOKd-2ed1yK3mdFba\"\n",
            "[download] Destination: 【賜福與你 Blessings of God Be Upon You】官方歌詞版MV (Official Lyrics MV) - 讚美之泉敬拜讚美 (13) [vjrMTpacP7w].mp4\n",
            "\u001b[K[download] 100% of 42.58MiB in \u001b[1;37m00:01\u001b[0m\n",
            "[debug] ffmpeg command line: ffprobe -show_streams 'file:【賜福與你 Blessings of God Be Upon You】官方歌詞版MV (Official Lyrics MV) - 讚美之泉敬拜讚美 (13) [vjrMTpacP7w].mp4'\n",
            "[ExtractAudio] Destination: 【賜福與你 Blessings of God Be Upon You】官方歌詞版MV (Official Lyrics MV) - 讚美之泉敬拜讚美 (13) [vjrMTpacP7w].m4a\n",
            "[debug] ffmpeg command line: ffmpeg -y -loglevel repeat+info -i 'file:【賜福與你 Blessings of God Be Upon You】官方歌詞版MV (Official Lyrics MV) - 讚美之泉敬拜讚美 (13) [vjrMTpacP7w].mp4' -vn -acodec copy -bsf:a aac_adtstoasc -movflags +faststart 'file:【賜福與你 Blessings of God Be Upon You】官方歌詞版MV (Official Lyrics MV) - 讚美之泉敬拜讚美 (13) [vjrMTpacP7w].m4a'\n",
            "Deleting original file 【賜福與你 Blessings of God Be Upon You】官方歌詞版MV (Official Lyrics MV) - 讚美之泉敬拜讚美 (13) [vjrMTpacP7w].mp4 (pass -k to keep)\n"
          ]
        }
      ]
    },
    {
      "cell_type": "code",
      "source": [
        "!rm -rf *.m4a"
      ],
      "metadata": {
        "id": "FUPEJ9Mh9rT7"
      },
      "execution_count": 13,
      "outputs": []
    },
    {
      "cell_type": "code",
      "source": [
        ""
      ],
      "metadata": {
        "id": "VQDYvGhS-W1n"
      },
      "execution_count": null,
      "outputs": []
    }
  ]
}